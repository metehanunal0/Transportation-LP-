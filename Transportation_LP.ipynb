{
  "cells": [
    {
      "cell_type": "markdown",
      "metadata": {
        "id": "view-in-github",
        "colab_type": "text"
      },
      "source": [
        "<a href=\"https://colab.research.google.com/github/metehanunal0/Transportation-LP-/blob/main/Transportation_LP.ipynb\" target=\"_parent\"><img src=\"https://colab.research.google.com/assets/colab-badge.svg\" alt=\"Open In Colab\"/></a>"
      ]
    },
    {
      "cell_type": "markdown",
      "source": [
        "#**RANDOM NUMBER GENERATOR**#"
      ],
      "metadata": {
        "id": "Zo2q0AL1wtNX"
      }
    },
    {
      "cell_type": "code",
      "execution_count": null,
      "metadata": {
        "colab": {
          "base_uri": "https://localhost:8080/"
        },
        "id": "y3iY0ubcE5nf",
        "outputId": "492151ae-7f60-4376-af9d-370342374ece"
      },
      "outputs": [
        {
          "output_type": "stream",
          "name": "stdout",
          "text": [
            "The shipment cost from factory to distribution center\n",
            "             Atlas  Nebule  Azure\n",
            "Tonoz            8       5      4\n",
            "White Kiosk      7       3      3\n",
            "Quarterage      10       7      5\n",
            "Middle Yard      5       3      5\n",
            "\n",
            " The shipment cost from distribution center to store\n",
            "        Venus  Minerva  Neptunus  Mars  Ceres\n",
            "Atlas       5        6         4     9     10\n",
            "Nebule      4       10         4     1      4\n",
            "Azure       2        1         2     8     10\n",
            "\n",
            " The shipment cost from factory to store\n",
            "             Venus  Minerva  Neptunus  Mars  Ceres\n",
            "Tonoz            9        3         4     3      5\n",
            "White Kiosk      9        8         8     5      1\n",
            "Quarterage       4        1        10     7      6\n",
            "Middle Yard      2        6         9     4     10\n"
          ]
        }
      ],
      "source": [
        "import pandas as pd\n",
        "import numpy as np\n",
        "import math\n",
        "\n",
        "# the seed number should be your student ID.\n",
        "# If it has letter, please ignore it and use only numbers in the ID\n",
        "np.random.seed(18061077)\n",
        "\n",
        "# Shipment cost from factory to distribution center\n",
        "RandomFtoD1 = np.round(np.random.uniform(low = 1, high = 10, size = 12),0).astype(int)\n",
        "RandomFtoD2 = np.reshape(RandomFtoD1, (4,3))\n",
        "CostFtoD = pd.DataFrame(RandomFtoD2, columns=['Atlas', 'Nebule',\"Azure\"],\n",
        "                        index=[\"Tonoz\",\"White Kiosk\",\"Quarterage\",\"Middle Yard\"])\n",
        "#CostFtoD # gives the shipment cost from factory to distribution center\n",
        "\n",
        "# Shipment cost from distribution center to store\n",
        "RandomDtoS1 = np.round(np.random.uniform(low = 1, high = 10, size = 15),0).astype(int)\n",
        "RandomDtoS2 = np.reshape(RandomDtoS1, (3,5))\n",
        "CostDtoS = pd.DataFrame(RandomDtoS2, columns=[\"Venus\", \"Minerva\", \"Neptunus\", \"Mars\", \"Ceres\"],\n",
        "                        index=['Atlas', 'Nebule',\"Azure\"])\n",
        "#CostDtoS # gives the shipment cost from distribution center to store\n",
        "\n",
        "# Shipment cost from factory to store\n",
        "RandomFtoS1 = np.round(np.random.uniform(low = 1, high = 10, size = 20),0).astype(int)\n",
        "RandomFtoS2 = np.reshape(RandomFtoS1, (4,5))\n",
        "CostFtoS = pd.DataFrame(RandomFtoS2, columns=[\"Venus\", \"Minerva\", \"Neptunus\", \"Mars\", \"Ceres\"],\n",
        "                        index=[\"Tonoz\",\"White Kiosk\",\"Quarterage\",\"Middle Yard\"])\n",
        "#CostFtoS # gives the shipment cost from distribution center to store\n",
        "\n",
        "# Your Required Information About Shipment Cost\n",
        "print(\"The shipment cost from factory to distribution center\")\n",
        "print(CostFtoD)\n",
        "print(\"\\n The shipment cost from distribution center to store\")\n",
        "print(CostDtoS)\n",
        "print(\"\\n The shipment cost from factory to store\")\n",
        "print(CostFtoS)\n"
      ]
    },
    {
      "cell_type": "markdown",
      "source": [
        "# ~ **SOLUTION** ~#"
      ],
      "metadata": {
        "id": "_YS6ecAuaWfR"
      }
    },
    {
      "cell_type": "code",
      "execution_count": null,
      "metadata": {
        "id": "tfZ9ZjMmE5nm"
      },
      "outputs": [],
      "source": [
        "#---- Downloading and importing neccesarry library ----#\n",
        "#!pip install pulp\n",
        "import pulp as p"
      ]
    },
    {
      "cell_type": "code",
      "source": [
        "#---- Defining Factories, Distribution Centers and Stores ----#\n",
        "Factories = [\"Tonoz\", \"Qiosk\", \"Quart\", \"MYard\"]\n",
        "DCenters = [\"Atlas\",\"Nebula\",\"Azure\"]\n",
        "Stores = [\"Venus\",\"Minerva\",\"Neptunus\",\"Mars\",\"Ceres\"]"
      ],
      "metadata": {
        "id": "DEcEYP6auIMJ"
      },
      "execution_count": null,
      "outputs": []
    },
    {
      "cell_type": "code",
      "source": [
        "#---- Dictionaries that show the volume of factory and demand of store ----#\n",
        "volume = {\"Tonoz\": 3000, \"Qiosk\": 5000, \"Quart\": 7500, \"MYard\":7000}\n",
        "\n",
        "demand = {\"Venus\":5500 ,\"Minerva\":4750 ,\"Neptunus\":6550 ,\"Mars\":4000 ,\"Ceres\":1700}\n",
        "\n",
        "#---- Cost of shipping Factory to DC ----#\n",
        "costFtoD = {\"Tonoz\":{\"Atlas\":8 ,\"Nebula\":5 ,\"Azure\":4 },\n",
        "            \"Qiosk\":{\"Atlas\":7 ,\"Nebula\":3 ,\"Azure\":3 },\n",
        "            \"Quart\":{\"Atlas\":10 ,\"Nebula\":7 ,\"Azure\":5 },\n",
        "            \"MYard\":{\"Atlas\":5 ,\"Nebula\":3 ,\"Azure\":5 }}\n",
        "#---- Cost of shipping DC to Store ----#\n",
        "costDtoS = {\"Atlas\":{\"Venus\":5 ,\"Minerva\":6 ,\"Neptunus\":4 ,\"Mars\":9 ,\"Ceres\":10 },\n",
        "            \"Nebula\":{\"Venus\":4 ,\"Minerva\":10 ,\"Neptunus\":4 ,\"Mars\":1 ,\"Ceres\":4 },\n",
        "            \"Azure\":{\"Venus\":2 ,\"Minerva\":1 ,\"Neptunus\":2 ,\"Mars\":8 ,\"Ceres\":10 }}\n",
        "#---- Cost of shipping Factory to Store ----#\n",
        "costFtoS = {\"Tonoz\":{\"Venus\":9 ,\"Minerva\":3 ,\"Neptunus\":4 ,\"Mars\":3 ,\"Ceres\":5 },\n",
        "            \"Qiosk\":{\"Venus\":9 ,\"Minerva\":8 ,\"Neptunus\":8 ,\"Mars\":5 ,\"Ceres\":1 },\n",
        "            \"Quart\":{\"Venus\":4 ,\"Minerva\":1 ,\"Neptunus\":10 ,\"Mars\":7 ,\"Ceres\":6 },\n",
        "            \"MYard\":{\"Venus\":2 ,\"Minerva\":6 ,\"Neptunus\":9 ,\"Mars\":4 ,\"Ceres\":10 }}"
      ],
      "metadata": {
        "id": "WXGDqBphnDT1"
      },
      "execution_count": null,
      "outputs": []
    },
    {
      "cell_type": "code",
      "source": [
        "#---- Setting up the model ----#\n",
        "model = p.LpProblem(\"Transportation\", p.LpMinimize)"
      ],
      "metadata": {
        "id": "fpiN3RgSrQGP"
      },
      "execution_count": null,
      "outputs": []
    },
    {
      "cell_type": "code",
      "source": [
        "#---- Defining route matrices ----#\n",
        "routeFtoD = [(i,j) for i in Factories for j in DCenters]\n",
        "routeDtoS = [(j,k) for j in DCenters for k in Stores]\n",
        "routeFtoS = [(i,k) for i in Factories for k in Stores]"
      ],
      "metadata": {
        "id": "MQUSTV-Tr929"
      },
      "execution_count": null,
      "outputs": []
    },
    {
      "cell_type": "code",
      "source": [
        "#---- Defining Decision Variables of Each Routes ----#\n",
        "FtoD_vars = p.LpVariable.dicts(\"ShipAmount_FtoD\",(Factories,DCenters), lowBound=0)\n",
        "DtoS_vars = p.LpVariable.dicts(\"ShipAmount_DtoS\",(DCenters,Stores), lowBound=0)\n",
        "FtoS_vars = p.LpVariable.dicts(\"ShipAmount_FtoS\",(Factories,Stores), lowBound=0)\n"
      ],
      "metadata": {
        "id": "061YdmlesjBf"
      },
      "execution_count": null,
      "outputs": []
    },
    {
      "cell_type": "code",
      "source": [
        "#---- Defining Objective Function ----#\n",
        "model += (p.lpSum(FtoD_vars[i][j]*costFtoD[i][j] for (i,j) in routeFtoD)+\n",
        "          p.lpSum(DtoS_vars[j][k]*costDtoS[j][k] for (j,k) in routeDtoS)+\n",
        "          p.lpSum(FtoS_vars[i][k]*costFtoS[i][k] for (i,k) in routeFtoS))\n",
        ""
      ],
      "metadata": {
        "id": "wIYh6G7tuHbv"
      },
      "execution_count": null,
      "outputs": []
    },
    {
      "cell_type": "code",
      "source": [
        "#---- Determining Constraints ----#\n",
        "for k in Stores:\n",
        "  model += p.lpSum(FtoS_vars[i][k] for i in Factories) + p.lpSum(DtoS_vars[j][k] for j in DCenters) >= demand[k]\n",
        "\n",
        "for j in DCenters:\n",
        "  model += p.lpSum(FtoD_vars[i][j] for i in Factories) >= p.lpSum(DtoS_vars[j][k] for k in Stores)\n",
        "\n",
        "for i in Factories:\n",
        "  model += p.lpSum(FtoS_vars[i][k] for k in Stores) + p.lpSum(FtoD_vars[i][j] for j in DCenters) <= volume[i]"
      ],
      "metadata": {
        "id": "GsgF-801wG1N"
      },
      "execution_count": null,
      "outputs": []
    },
    {
      "cell_type": "code",
      "source": [
        "#---- Checking if our model is optimal ----#\n",
        "model.solve()   # if returns 1, it means that model is optimal"
      ],
      "metadata": {
        "id": "RUHEt6KF1FFb"
      },
      "execution_count": null,
      "outputs": []
    },
    {
      "cell_type": "code",
      "source": [
        "#---- Checking if our model is optimal ----#\n",
        "print(\"Status:\", p.LpStatus[model.status])"
      ],
      "metadata": {
        "id": "npGpzkIa2TGR"
      },
      "execution_count": null,
      "outputs": []
    },
    {
      "cell_type": "code",
      "source": [
        "#---- Shows the value of the decision variables ----#\n",
        "for v in model.variables():\n",
        "  if v.varValue > 0:\n",
        "    print(v.name, \"=\", v.varValue)"
      ],
      "metadata": {
        "id": "0FeiVREL2p7-"
      },
      "execution_count": null,
      "outputs": []
    },
    {
      "cell_type": "code",
      "source": [
        "#---- Shows the value of objective function ----#\n",
        "print(\"Total cost = \", p.value(model.objective))"
      ],
      "metadata": {
        "id": "9JVJ7yc_29Xe"
      },
      "execution_count": null,
      "outputs": []
    }
  ],
  "metadata": {
    "kernelspec": {
      "display_name": "Python 3",
      "language": "python",
      "name": "python3"
    },
    "language_info": {
      "codemirror_mode": {
        "name": "ipython",
        "version": 3
      },
      "file_extension": ".py",
      "mimetype": "text/x-python",
      "name": "python",
      "nbconvert_exporter": "python",
      "pygments_lexer": "ipython3",
      "version": "3.8.5"
    },
    "colab": {
      "provenance": [],
      "include_colab_link": true
    }
  },
  "nbformat": 4,
  "nbformat_minor": 0
}